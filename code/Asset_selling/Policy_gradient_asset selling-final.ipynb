{
 "cells": [
  {
   "cell_type": "code",
   "execution_count": 1,
   "metadata": {},
   "outputs": [
    {
     "data": {
      "text/plain": [
       "'\\nSet-up:\\n1) Threshold policy \\n2) Bounded rewards\\n3) Many contextx and finite offers \\n4) Classic policy gradient\\n'"
      ]
     },
     "execution_count": 1,
     "metadata": {},
     "output_type": "execute_result"
    }
   ],
   "source": [
    "'''\n",
    "Set-up:\n",
    "1) Threshold policy \n",
    "2) Bounded rewards\n",
    "3) Many contextx and finite offers \n",
    "4) Classic policy gradient\n",
    "'''"
   ]
  },
  {
   "cell_type": "code",
   "execution_count": 2,
   "metadata": {
    "collapsed": true
   },
   "outputs": [],
   "source": [
    "import numpy as np\n",
    "np.set_printoptions(formatter={'float': lambda x: \"{0:0.6f}\".format(x)})\n",
    "%matplotlib inline\n",
    "import matplotlib\n",
    "import matplotlib.pyplot as plt"
   ]
  },
  {
   "cell_type": "code",
   "execution_count": 3,
   "metadata": {},
   "outputs": [],
   "source": [
    "## Random Seed\n",
    "np.random.seed(10) \n",
    "## Problem Setup\n",
    "gamma = 0.9\n",
    "n, m = 5, 5\n",
    "'''\n",
    "Q matrix: Emission probabilities Q(y|x) in R^{|X| x |Y|}\n",
    "'''\n",
    "raw_em = np.random.uniform(0,1,size=(n,m))\n",
    "prob_em = raw_em/raw_em.sum(axis=1,keepdims=1)\n",
    "'''\n",
    "Latent transitions in R^{|X| x |X|}\n",
    "'''\n",
    "raw_latent = np.random.uniform(0,1,size=(n,n))\n",
    "prob_latent = raw_latent/raw_latent.sum(axis=1,keepdims=1)\n",
    "\n",
    "'''\n",
    "Random positive offers in R^{|Y|}\n",
    "'''\n",
    "offer = np.random.uniform(0,1,size=(m))\n",
    "'''\n",
    "Reward\n",
    "'''\n",
    "reward = np.zeros(2*n*m)\n",
    "for j in range(m):\n",
    "    for i in range(n):\n",
    "        reward[2*(i*m + j)+1] = offer[j]\n",
    "'''\n",
    "Start state distribution\n",
    "'''\n",
    "rho = prob_em/n"
   ]
  },
  {
   "cell_type": "code",
   "execution_count": 4,
   "metadata": {
    "collapsed": true
   },
   "outputs": [],
   "source": [
    "'''\n",
    "Randomly generated probability transition matrix P((s,a) -> s') in R^{|X||Y|*|A| x |X||Y|} with an absorbing state\n",
    "Each row sums up to one\n",
    "Note, the transitons (x,y) -> (x',y') do not depend on y, so there is a block structure\n",
    "'''\n",
    "def get_prob_trans(prob_em,prob_latent,n,m):\n",
    "    prob_trans = np.zeros((2*n*m,n*m))\n",
    "    \n",
    "    ## This is for action 0 which transitions between states; no transition to the absorbing state\n",
    "    for i in range(n):\n",
    "        prob_0 = np.zeros(n*m)\n",
    "        for j in range(n):\n",
    "            for k in range(m):\n",
    "                prob_0[j*m + k] = prob_latent[i,j]*prob_em[j,k]\n",
    "                \n",
    "        for J in range(i*m,(i+1)*m):\n",
    "            prob_trans[2*J,:] = prob_0\n",
    "    \n",
    "    return prob_trans"
   ]
  },
  {
   "cell_type": "code",
   "execution_count": 5,
   "metadata": {
    "collapsed": true
   },
   "outputs": [],
   "source": [
    "prob_trans = get_prob_trans(prob_em,prob_latent,n,m)"
   ]
  },
  {
   "cell_type": "code",
   "execution_count": 6,
   "metadata": {
    "collapsed": true
   },
   "outputs": [],
   "source": [
    "'''\n",
    "Input: theta as an array\n",
    "Ouput: array of probabilites corresponding to each (state,action): [\\pi_{(x,y),a}] in R^{|X||Y|*|A|}\n",
    "'''\n",
    "def theta_to_policy(theta,n,m):\n",
    "    prob = np.zeros(2*n*m)\n",
    "    for i in range(n):\n",
    "        for j in range(m):\n",
    "            prob_acc = 1/(1 + np.exp(-(theta[2*i] + theta[2*i + 1]*offer[j])))\n",
    "            prob[2*(i*m + j) + 1] = prob_acc  ## Action = 1\n",
    "            prob[2*(i*m + j)] = 1 - prob_acc  ## Action = 0\n",
    "            \n",
    "    return prob"
   ]
  },
  {
   "cell_type": "code",
   "execution_count": 7,
   "metadata": {
    "collapsed": true
   },
   "outputs": [],
   "source": [
    "'''\n",
    "Get \\Pi_{\\pi}((s) -> (s,a)) in R^{|X||Y| x |X||Y|*|A|} matrix corresponding to the policy \\pi using the prob vector\n",
    "'''\n",
    "def get_Pi(prob,n,m):\n",
    "    Pi = np.zeros((n*m,2*n*m))\n",
    "    for i in range(n*m):\n",
    "        Pi[i,2*i:2*(i+1)] = prob[2*i:2*(i+1)]\n",
    "    \n",
    "    return Pi\n"
   ]
  },
  {
   "cell_type": "code",
   "execution_count": 16,
   "metadata": {
    "collapsed": true
   },
   "outputs": [],
   "source": [
    "'''\n",
    "Input: probability vector, state, action\n",
    "Output: \\nabla_{\\theta} \\pi_{\\theta}(s,a)\n",
    "\n",
    "States go from 0 to n-1 and actons from 0 to m-1\n",
    "'''\n",
    "def grad_state_xy(qvals,prob,state_x,state_y):\n",
    "    grad = np.zeros(2*n)\n",
    "    Q_s_0 = qvals[2*(state_x*m + state_y) + 1]\n",
    "    Q_s_1 = qvals[2*(state_x*m + state_y)]\n",
    "    pi_s_1 = prob[2*(state_x*m + state_y) + 1]\n",
    "    grad[2*state_x] = (Q_s_0 - Q_s_1)*pi_s_1*(1-pi_s_1)\n",
    "    grad[2*state_x + 1] = (Q_s_0 - Q_s_1)*pi_s_1*(1-pi_s_1)*offer[state_y]\n",
    "    return grad\n",
    "\n",
    "def grad_state(qvals,prob,d_pi,state_x):\n",
    "    grad = np.sum([d_pi[state_x*m + j]*grad_state_xy(qvals,prob,state_x,j) for j in range(m)],axis=0)        \n",
    "    return grad\n",
    "\n",
    "def grad(qvals,prob,d_pi):\n",
    "    grad = np.sum([grad_state(qvals,prob,d_pi,i) for i in range(n)],axis=0)\n",
    "    return grad"
   ]
  },
  {
   "cell_type": "code",
   "execution_count": 17,
   "metadata": {
    "collapsed": true
   },
   "outputs": [],
   "source": [
    "'''\n",
    "The overall reward function \\ell(\\theta)\n",
    "'''\n",
    "def ell(qvals,prob,rho):\n",
    "    V = np.zeros(n*m)\n",
    "    for i in range(n*m):\n",
    "        V[i] = np.sum([qvals[2*i + j]*prob[2*i + j] for j in range(2)])\n",
    "    \n",
    "    ell = np.dot(V,rho.flatten())\n",
    "    return ell"
   ]
  },
  {
   "cell_type": "markdown",
   "metadata": {},
   "source": [
    "## Backtracking line search"
   ]
  },
  {
   "cell_type": "code",
   "execution_count": 18,
   "metadata": {
    "collapsed": true
   },
   "outputs": [],
   "source": [
    "def ell_theta(theta,rho):\n",
    "    prob = theta_to_policy(theta,n,m)\n",
    "    Pi = get_Pi(prob,n,m)\n",
    "    mat = np.identity(2*n*m) - gamma*np.matmul(prob_trans,Pi)\n",
    "    qvals = np.dot(np.linalg.inv(mat),reward)\n",
    "    return ell(qvals,prob,rho)\n",
    "       \n",
    "def find_step(theta,gradient,alpha,beta):\n",
    "    step = alpha\n",
    "    while ell_theta(theta - step*gradient,rho) > ell_theta(theta,rho) - (step/2)*np.linalg.norm(gradient):\n",
    "        step = beta*step\n",
    "    return step"
   ]
  },
  {
   "cell_type": "markdown",
   "metadata": {},
   "source": [
    "## Policy Iteration to find optimal policy"
   ]
  },
  {
   "cell_type": "code",
   "execution_count": 19,
   "metadata": {},
   "outputs": [
    {
     "name": "stdout",
     "output_type": "stream",
     "text": [
      "('Initial policy', array([0.591352, 0.408648, 0.167015, 0.832985, 0.433541, 0.566459,\n",
      "       0.584505, 0.415495, 0.559180, 0.440820, 0.027429, 0.972571,\n",
      "       0.277426, 0.722574, 0.514593, 0.485407, 0.828479, 0.171521,\n",
      "       0.016950, 0.983050, 0.619219, 0.380781, 0.781253, 0.218747,\n",
      "       0.781558, 0.218442, 0.902782, 0.097218, 0.264131, 0.735869,\n",
      "       0.309440, 0.690560, 0.695862, 0.304138, 0.103049, 0.896951,\n",
      "       0.666109, 0.333891, 0.692409, 0.307591, 0.236773, 0.763227,\n",
      "       0.591955, 0.408045, 0.751390, 0.248610, 0.481136, 0.518864,\n",
      "       0.268065, 0.731935]))\n"
     ]
    }
   ],
   "source": [
    "raw_vec = np.random.uniform(0,1,size=(n*m,2))\n",
    "prob_vec = raw_vec/raw_vec.sum(axis=1,keepdims=1)\n",
    "init_policy = prob_vec.flatten()\n",
    "print('Initial policy',init_policy)"
   ]
  },
  {
   "cell_type": "code",
   "execution_count": 20,
   "metadata": {
    "collapsed": true
   },
   "outputs": [],
   "source": [
    "'''\n",
    "Policy iteration function\n",
    "'''\n",
    "def policy_iter(q_vals,n,m):\n",
    "    new_policy = np.zeros(2*n*m)\n",
    "    for i in range(n*m):\n",
    "        idx = np.argmax(q_vals[2*i:2*(i+1)])\n",
    "        new_policy[2*i + idx] = 1\n",
    "    \n",
    "    return new_policy   "
   ]
  },
  {
   "cell_type": "code",
   "execution_count": 21,
   "metadata": {},
   "outputs": [
    {
     "name": "stdout",
     "output_type": "stream",
     "text": [
      "('Starting policy', array([0.591352, 0.408648, 0.167015, 0.832985, 0.433541, 0.566459,\n",
      "       0.584505, 0.415495, 0.559180, 0.440820, 0.027429, 0.972571,\n",
      "       0.277426, 0.722574, 0.514593, 0.485407, 0.828479, 0.171521,\n",
      "       0.016950, 0.983050, 0.619219, 0.380781, 0.781253, 0.218747,\n",
      "       0.781558, 0.218442, 0.902782, 0.097218, 0.264131, 0.735869,\n",
      "       0.309440, 0.690560, 0.695862, 0.304138, 0.103049, 0.896951,\n",
      "       0.666109, 0.333891, 0.692409, 0.307591, 0.236773, 0.763227,\n",
      "       0.591955, 0.408045, 0.751390, 0.248610, 0.481136, 0.518864,\n",
      "       0.268065, 0.731935]))\n",
      "50\n",
      "20\n",
      "0\n",
      "('Final policy', array([1.000000, 0.000000, 1.000000, 0.000000, 0.000000, 1.000000,\n",
      "       1.000000, 0.000000, 1.000000, 0.000000, 1.000000, 0.000000,\n",
      "       1.000000, 0.000000, 0.000000, 1.000000, 1.000000, 0.000000,\n",
      "       1.000000, 0.000000, 1.000000, 0.000000, 1.000000, 0.000000,\n",
      "       0.000000, 1.000000, 1.000000, 0.000000, 1.000000, 0.000000,\n",
      "       1.000000, 0.000000, 1.000000, 0.000000, 0.000000, 1.000000,\n",
      "       1.000000, 0.000000, 1.000000, 0.000000, 1.000000, 0.000000,\n",
      "       1.000000, 0.000000, 0.000000, 1.000000, 1.000000, 0.000000,\n",
      "       1.000000, 0.000000]))\n"
     ]
    }
   ],
   "source": [
    "curr_policy = np.random.uniform(0,1,size=(2*n*m))\n",
    "new_policy = init_policy\n",
    "print('Starting policy',init_policy)\n",
    "\n",
    "while np.count_nonzero(curr_policy - new_policy) > 0:\n",
    "    curr_policy = new_policy\n",
    "    Pi = get_Pi(curr_policy,n,m)\n",
    "    mat = np.identity(2*n*m) - gamma*np.matmul(prob_trans,Pi)\n",
    "    q_vals = np.dot(np.linalg.inv(mat),reward)\n",
    "    new_policy = policy_iter(q_vals,n,m)\n",
    "    print(np.count_nonzero(curr_policy - new_policy))\n",
    "    \n",
    "print('Final policy',new_policy)"
   ]
  },
  {
   "cell_type": "code",
   "execution_count": 22,
   "metadata": {},
   "outputs": [
    {
     "name": "stdout",
     "output_type": "stream",
     "text": [
      "0.5713858790238419\n"
     ]
    }
   ],
   "source": [
    "ell_star = ell(q_vals,new_policy,rho)\n",
    "print(ell_star)"
   ]
  },
  {
   "cell_type": "markdown",
   "metadata": {},
   "source": [
    "## Policy gradient in action"
   ]
  },
  {
   "cell_type": "code",
   "execution_count": 23,
   "metadata": {},
   "outputs": [
    {
     "name": "stdout",
     "output_type": "stream",
     "text": [
      "('Optimality gap', 0.20511755551871103)\n",
      "('Optimality gap', 0.18791374130064892)\n",
      "('Optimality gap', 0.1784182309215971)\n",
      "('Optimality gap', 0.1708119822045)\n",
      "('Optimality gap', 0.16445599045915082)\n",
      "('Optimality gap', 0.15932145052738594)\n",
      "('Optimality gap', 0.155122410789727)\n",
      "('Optimality gap', 0.1514214920188749)\n",
      "('Optimality gap', 0.1478732010329945)\n",
      "('Optimality gap', 0.14428014015542806)\n",
      "('Optimality gap', 0.14053536757318175)\n",
      "('Optimality gap', 0.13657115442273227)\n",
      "('Optimality gap', 0.13236742910822563)\n",
      "('Optimality gap', 0.12795919584965637)\n",
      "('Optimality gap', 0.1233807679403971)\n",
      "('Optimality gap', 0.11860273321968667)\n",
      "('Optimality gap', 0.11353564749619527)\n",
      "('Optimality gap', 0.10811640083418089)\n",
      "('Optimality gap', 0.10243615200105993)\n",
      "('Optimality gap', 0.09673372975560524)\n",
      "('Optimality gap', 0.09122850914438274)\n",
      "('Optimality gap', 0.08604557363437998)\n",
      "('Optimality gap', 0.08124268058377127)\n",
      "('Optimality gap', 0.076835319453394)\n",
      "('Optimality gap', 0.07281214546647286)\n",
      "('Optimality gap', 0.0691471142878125)\n",
      "('Optimality gap', 0.06580799490531886)\n",
      "('Optimality gap', 0.0627614607217648)\n",
      "('Optimality gap', 0.05997575599074778)\n",
      "('Optimality gap', 0.057421887018054174)\n",
      "('Optimality gap', 0.05507399555257264)\n",
      "('Optimality gap', 0.052909313859393126)\n",
      "('Optimality gap', 0.05090792740841221)\n",
      "('Optimality gap', 0.04905246638862748)\n",
      "('Optimality gap', 0.04732778764328516)\n",
      "('Optimality gap', 0.045720675976866354)\n",
      "('Optimality gap', 0.044219576501483115)\n",
      "('Optimality gap', 0.04281436089388546)\n",
      "('Optimality gap', 0.041496126220414875)\n",
      "('Optimality gap', 0.04025702319132207)\n",
      "('Optimality gap', 0.03909011014774133)\n",
      "('Optimality gap', 0.03798922912986891)\n",
      "('Optimality gap', 0.03694890068812551)\n",
      "('Optimality gap', 0.035964234507281256)\n",
      "('Optimality gap', 0.0350308533309186)\n",
      "('Optimality gap', 0.03414482806091723)\n",
      "('Optimality gap', 0.03330262224865177)\n",
      "('Optimality gap', 0.032501044488245756)\n",
      "('Optimality gap', 0.0317372074701886)\n",
      "('Optimality gap', 0.031008492660915876)\n",
      "('Optimality gap', 0.030312519746215294)\n",
      "('Optimality gap', 0.029647120119011272)\n",
      "('Optimality gap', 0.02901031381011021)\n",
      "('Optimality gap', 0.02840028935810668)\n",
      "('Optimality gap', 0.02781538619541657)\n",
      "('Optimality gap', 0.027254079194359515)\n",
      "('Optimality gap', 0.026714965072760277)\n",
      "('Optimality gap', 0.02619675040477043)\n",
      "('Optimality gap', 0.0256982410211285)\n",
      "('Optimality gap', 0.025218332615281502)\n",
      "('Optimality gap', 0.024756002398758303)\n",
      "('Optimality gap', 0.02431030167183945)\n",
      "('Optimality gap', 0.02388034919464488)\n",
      "('Optimality gap', 0.02346532525986078)\n",
      "('Optimality gap', 0.023064466381962356)\n",
      "('Optimality gap', 0.022677060529351922)\n",
      "('Optimality gap', 0.02230244283567595)\n",
      "('Optimality gap', 0.02193999173497385)\n",
      "('Optimality gap', 0.021589125472493254)\n",
      "('Optimality gap', 0.021249298949151618)\n",
      "('Optimality gap', 0.020920000862911348)\n",
      "('Optimality gap', 0.020600751114886684)\n",
      "('Optimality gap', 0.020291098451924783)\n",
      "('Optimality gap', 0.01999061832080562)\n",
      "('Optimality gap', 0.019698910912146594)\n",
      "('Optimality gap', 0.019415599374660086)\n",
      "('Optimality gap', 0.019140328182636557)\n",
      "('Optimality gap', 0.018872761641473113)\n",
      "('Optimality gap', 0.018612582517764764)\n",
      "('Optimality gap', 0.018359490781958976)\n",
      "('Optimality gap', 0.01811320245289083)\n",
      "('Optimality gap', 0.017873448534651115)\n",
      "('Optimality gap', 0.017639974037257478)\n",
      "('Optimality gap', 0.01741253707349244)\n",
      "('Optimality gap', 0.01719090802505252)\n",
      "('Optimality gap', 0.016974868771858276)\n",
      "('Optimality gap', 0.01676421197898703)\n",
      "('Optimality gap', 0.0165587404362465)\n",
      "('Optimality gap', 0.01635826644588856)\n",
      "('Optimality gap', 0.01616261125440277)\n",
      "('Optimality gap', 0.015971604524716798)\n",
      "('Optimality gap', 0.015785083845476056)\n",
      "('Optimality gap', 0.015602894274387769)\n",
      "('Optimality gap', 0.015424887912889873)\n",
      "('Optimality gap', 0.01525092350965851)\n",
      "('Optimality gap', 0.015080866090687262)\n",
      "('Optimality gap', 0.014914586613878233)\n",
      "('Optimality gap', 0.014751961646262024)\n",
      "('Optimality gap', 0.014592873062130196)\n",
      "('Optimality gap', 0.014437207760511162)\n"
     ]
    }
   ],
   "source": [
    "'''\n",
    "Gradient decent\n",
    "'''\n",
    "N = 100000\n",
    "stepsize = 0.01\n",
    "# Parameters for line search\n",
    "alpha = 1\n",
    "beta = 0.7\n",
    "theta = np.random.uniform(0,1,size=2*n)\n",
    "gap = []\n",
    "for k in range(N):\n",
    "    prob = theta_to_policy(theta,n,m)\n",
    "\n",
    "    Pi = get_Pi(prob,n,m)\n",
    "    mat = np.identity(2*n*m) - gamma*np.matmul(prob_trans,Pi)\n",
    "    qvals = np.dot(np.linalg.inv(mat),reward)\n",
    "\n",
    "    P_theta = np.matmul(Pi,prob_trans)\n",
    "    d_pi = (1-gamma)*np.dot(np.transpose((np.linalg.inv(np.identity(n*m) - gamma*P_theta))),rho.flatten())\n",
    "\n",
    "    gradient = grad(qvals,prob,d_pi)\n",
    "    #     theta += stepsize*gradient\n",
    "    \n",
    "    step = find_step(theta,gradient,alpha,beta)\n",
    "    theta += step*gradient\n",
    "        \n",
    "    if k % 1000 == 0:\n",
    "        avg_reward = ell(qvals,prob,rho)\n",
    "        print('Optimality gap',ell_star - avg_reward)\n",
    "        gap.append(ell_star - avg_reward)"
   ]
  },
  {
   "cell_type": "code",
   "execution_count": 24,
   "metadata": {},
   "outputs": [
    {
     "data": {
      "text/plain": [
       "<matplotlib.text.Text at 0x108013090>"
      ]
     },
     "execution_count": 24,
     "metadata": {},
     "output_type": "execute_result"
    },
    {
     "data": {
      "image/png": "[encoded data removed]",
      "text/plain": [
       "<matplotlib.figure.Figure at 0x10679bad0>"
      ]
     },
     "metadata": {},
     "output_type": "display_data"
    }
   ],
   "source": [
    "f = plt.figure\n",
    "plt.plot(np.array(gap))\n",
    "plt.title('Optimality gap during training')\n",
    "plt.ylabel('Optimality gap')\n",
    "plt.xlabel('Iteration number/100')"
   ]
  },
  {
   "cell_type": "code",
   "execution_count": null,
   "metadata": {
    "collapsed": true
   },
   "outputs": [],
   "source": []
  }
 ],
 "metadata": {
  "kernelspec": {
   "display_name": "tf",
   "language": "python",
   "name": "tf"
  },
  "language_info": {
   "codemirror_mode": {
    "name": "ipython",
    "version": 2
   },
   "file_extension": ".py",
   "mimetype": "text/x-python",
   "name": "python",
   "nbconvert_exporter": "python",
   "pygments_lexer": "ipython2",
   "version": "2.7.13"
  }
 },
 "nbformat": 4,
 "nbformat_minor": 2
}
