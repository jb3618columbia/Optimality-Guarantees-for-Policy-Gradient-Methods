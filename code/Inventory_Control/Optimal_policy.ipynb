{
 "cells": [
  {
   "cell_type": "code",
   "execution_count": 1,
   "metadata": {},
   "outputs": [
    {
     "data": {
      "text/plain": [
       "'\\nSet-up:\\n1) Threshold policy \\n2) Continuous state space\\n3) Finite Horizon \\n4) Monte Carlo approximation\\n'"
      ]
     },
     "execution_count": 1,
     "metadata": {},
     "output_type": "execute_result"
    }
   ],
   "source": [
    "'''\n",
    "Set-up:\n",
    "1) Threshold policy \n",
    "2) Continuous state space\n",
    "3) Finite Horizon \n",
    "4) Monte Carlo approximation\n",
    "'''"
   ]
  },
  {
   "cell_type": "code",
   "execution_count": 2,
   "metadata": {
    "collapsed": true
   },
   "outputs": [],
   "source": [
    "import numpy as np\n",
    "import math\n",
    "np.set_printoptions(formatter={'float': lambda x: \"{0:0.6f}\".format(x)})\n",
    "%matplotlib inline\n",
    "import matplotlib\n",
    "import matplotlib.pyplot as plt"
   ]
  },
  {
   "cell_type": "code",
   "execution_count": 3,
   "metadata": {
    "collapsed": true
   },
   "outputs": [],
   "source": [
    "'''\n",
    "Parameters: norizon length, demand distribution, start state distribution\n",
    "'''\n",
    "np.random.seed(10)\n",
    "horizon = 20\n",
    "demand_min = 0\n",
    "demand_max = 1\n",
    "start_mean = 1\n",
    "start_var = 0.5\n",
    "'''\n",
    "Costs\n",
    "'''\n",
    "c = 0.5\n",
    "p = 0.6\n",
    "h = 0.55"
   ]
  },
  {
   "cell_type": "markdown",
   "metadata": {},
   "source": [
    "## Optimal Policy"
   ]
  },
  {
   "cell_type": "code",
   "execution_count": 4,
   "metadata": {
    "collapsed": true
   },
   "outputs": [],
   "source": [
    "sims_for_MC = 500\n",
    "y_min = -1\n",
    "y_max = 1"
   ]
  },
  {
   "cell_type": "code",
   "execution_count": 5,
   "metadata": {},
   "outputs": [],
   "source": [
    "demand_mat = np.random.uniform(demand_min,demand_max,size=(sims_for_MC,horizon))"
   ]
  },
  {
   "cell_type": "code",
   "execution_count": 6,
   "metadata": {
    "collapsed": true
   },
   "outputs": [],
   "source": [
    "def get_cost(state,action):\n",
    "    return c*action + h*max(0,state) + p*max(0,-state)"
   ]
  },
  {
   "cell_type": "code",
   "execution_count": 53,
   "metadata": {
    "collapsed": true
   },
   "outputs": [],
   "source": [
    "# '''\n",
    "# horizon = length if the decision horizon. Example, horizon = 3 menas decision in 0,1,2\n",
    "# curr_time = current_period, so can go from 0 to horizon-1\n",
    "# '''\n",
    "\n",
    "# def q_function(y_init,theta_star,curr_time,horizon):\n",
    "#     '''\n",
    "#     The +1's in length is to accomodate the cost in the state after the final decison is taken\n",
    "#     '''\n",
    "#     variable = np.zeros(horizon-curr_time+1)\n",
    "#     cost = np.zeros(horizon-curr_time+1)\n",
    "#     variable[0] = y_init\n",
    "#     cost[0] = c*variable[0] \n",
    "#     action = 0\n",
    "    \n",
    "#     '''\n",
    "#     Now computing the continuation costs, J_{h+1} by forward simulation\n",
    "#     '''\n",
    "#     for i in range(0,horizon-curr_time-1): \n",
    "#         print('Getting here')\n",
    "#         variable[i+1] = variable[i] + action - demand_mat[0,curr_time+i]\n",
    "#         action = max(0,theta_star[curr_time+i+1]-variable[i+1])\n",
    "#         cost[i] = get_cost(variable[i],action) \n",
    "    \n",
    "#     variable[-1] = variable[horizon-curr_time-1] + action - demand_mat[0,-1]\n",
    "#     print variable"
   ]
  },
  {
   "cell_type": "code",
   "execution_count": 19,
   "metadata": {
    "collapsed": true
   },
   "outputs": [],
   "source": [
    "'''\n",
    "horizon = length if the decision horizon. Example, horizon = 3 menas decision in 0,1,2\n",
    "curr_time = current_period, so can go from 0 to horizon-1\n",
    "Inefficient code in terms of memory but easy to understand indexing\n",
    "'''\n",
    "\n",
    "def q_function(y_init,theta_star,curr_time,horizon):\n",
    "    '''\n",
    "    The +1's in length is to accomodate the cost in the state after the final decison is taken\n",
    "    '''\n",
    "    variable = np.zeros(horizon+1)\n",
    "    cost = np.zeros(horizon+1)\n",
    "    variable[curr_time] = y_init\n",
    "    cost[curr_time] = c*variable[curr_time] \n",
    "    action = 0\n",
    "    \n",
    "    '''\n",
    "    Now computing the continuation costs, J_{h+1} by forward simulation\n",
    "    '''\n",
    "    for i in range(curr_time,horizon-1): \n",
    "        print('Getting here')\n",
    "        variable[i+1] = variable[i] + action - demand_mat[0,i]\n",
    "        action = max(0,theta_star[i+1]-variable[i+1])\n",
    "        cost[i+1] = get_cost(variable[i+1],action) \n",
    "    \n",
    "    print(action)\n",
    "    variable[-1] = variable[horizon-1] + action - demand_mat[0,-1]\n",
    "    print variable"
   ]
  },
  {
   "cell_type": "code",
   "execution_count": 20,
   "metadata": {
    "collapsed": true
   },
   "outputs": [],
   "source": [
    "theta_star = np.zeros(horizon)"
   ]
  },
  {
   "cell_type": "code",
   "execution_count": 21,
   "metadata": {},
   "outputs": [
    {
     "name": "stdout",
     "output_type": "stream",
     "text": [
      "Getting here\n",
      "Getting here\n",
      "Getting here\n",
      "Getting here\n",
      "Getting here\n",
      "Getting here\n",
      "Getting here\n",
      "Getting here\n",
      "Getting here\n",
      "Getting here\n",
      "Getting here\n",
      "Getting here\n",
      "Getting here\n",
      "Getting here\n",
      "Getting here\n",
      "Getting here\n",
      "Getting here\n",
      "Getting here\n",
      "Getting here\n",
      "0.9177741225129434\n",
      "[0.500000 -0.271321 -0.020752 -0.633648 -0.748804 -0.498507 -0.224797\n",
      " -0.198063 -0.760531 -0.169111 -0.088340 -0.685360 -0.953393 -0.003948\n",
      " -0.512192 -0.812621 -0.612526 -0.721755 -0.291876 -0.917774 -0.714576]\n"
     ]
    }
   ],
   "source": [
    "'''\n",
    "Just a check\n",
    "'''\n",
    "q_function(0.5,theta_star,0,horizon)"
   ]
  },
  {
   "cell_type": "markdown",
   "metadata": {},
   "source": [
    "## Monte Carlo approximation for Qfunction"
   ]
  },
  {
   "cell_type": "code",
   "execution_count": 7,
   "metadata": {
    "collapsed": true
   },
   "outputs": [],
   "source": [
    "'''\n",
    "horizon = length if the decision horizon. Example, horizon = 3 menas decision in 0,1,2\n",
    "curr_time = current_period, so can go from 0 to horizon-1\n",
    "Inefficient code in terms of memory but easy to understand indexing.\n",
    "Efficient code will create vectors of size horizon - curr_time + 1 but requires more complex indexing\n",
    "'''\n",
    "\n",
    "def q_function(sims_for_MC,y_init,theta_star,curr_time,horizon):\n",
    "    \n",
    "    total_cost = 0\n",
    "    for k in range(sims_for_MC):\n",
    "    \n",
    "        '''\n",
    "        The +1's in length is to accomodate the cost in the state after the final decison is taken\n",
    "        '''\n",
    "        variable = np.zeros(horizon+1)\n",
    "        cost = np.zeros(horizon+1)\n",
    "        variable[curr_time] = y_init\n",
    "        cost[curr_time] = c*variable[curr_time] \n",
    "        action = 0\n",
    "\n",
    "        '''\n",
    "        Now computing the continuation costs, J_{h+1} by forward simulation\n",
    "        '''\n",
    "        for i in range(curr_time,horizon-1): \n",
    "            variable[i+1] = variable[i] + action - demand_mat[k,i]\n",
    "            action = max(0,theta_star[i+1]-variable[i+1])\n",
    "            cost[i+1] = get_cost(variable[i+1],action) \n",
    "\n",
    "        variable[-1] = variable[horizon-1] + action - demand_mat[k,-1]\n",
    "        cost[-1] = get_cost(variable[-1],0)\n",
    "        total_cost += np.sum(cost)\n",
    "    \n",
    "    return total_cost/sims_for_MC"
   ]
  },
  {
   "cell_type": "code",
   "execution_count": 8,
   "metadata": {
    "collapsed": true
   },
   "outputs": [],
   "source": [
    "theta_star = np.zeros(horizon)"
   ]
  },
  {
   "cell_type": "markdown",
   "metadata": {},
   "source": [
    "## Golden Search"
   ]
  },
  {
   "cell_type": "code",
   "execution_count": 9,
   "metadata": {},
   "outputs": [],
   "source": [
    "'''\n",
    "Wikipedia Implementation\n",
    "'''\n",
    "gr = (math.sqrt(5) + 1) / 2\n",
    "def gss(a, b, curr_time, tol=1e-2):\n",
    "    '''\n",
    "    golden section search to find the minimum of f on [a,b]\n",
    "    f: a strictly unimodal function on [a,b]\n",
    "    '''\n",
    "    c = b - (b - a) / gr\n",
    "    d = a + (b - a) / gr\n",
    "    \n",
    "    while abs(c - d) > tol:\n",
    "        f_c = q_function(sims_for_MC,c,theta_star,curr_time,horizon)\n",
    "        f_d = q_function(sims_for_MC,d,theta_star,curr_time,horizon)\n",
    "        if f_c < f_d:\n",
    "            b = d\n",
    "        else:\n",
    "            a = c\n",
    "\n",
    "        # we recompute both c and d here to avoid loss of precision which may lead to incorrect results or infinite loop\n",
    "        c = b - (b - a) / gr\n",
    "        d = a + (b - a) / gr\n",
    "        \n",
    "    return (b + a) / 2"
   ]
  },
  {
   "cell_type": "code",
   "execution_count": 15,
   "metadata": {},
   "outputs": [
    {
     "name": "stdout",
     "output_type": "stream",
     "text": [
      "0.514708427504\n"
     ]
    }
   ],
   "source": [
    "'''\n",
    "Just a check\n",
    "'''\n",
    "optimal = gss(y_min,y_max,2,tol=0.0001)\n",
    "print(optimal)"
   ]
  },
  {
   "cell_type": "markdown",
   "metadata": {},
   "source": [
    "## Golden Search with MC approximation in a loop"
   ]
  },
  {
   "cell_type": "code",
   "execution_count": 11,
   "metadata": {},
   "outputs": [],
   "source": [
    "theta_star = np.zeros(horizon)\n",
    "for i in range(horizon-1,-1,-1):\n",
    "    theta_star[i] = gss(y_min,y_max,i,tol=0.0001)"
   ]
  },
  {
   "cell_type": "code",
   "execution_count": 12,
   "metadata": {},
   "outputs": [
    {
     "name": "stdout",
     "output_type": "stream",
     "text": [
      "[0.473816 0.531530 0.514708 0.517081 0.536835 0.491116 0.462086 0.447291\n",
      " 0.539767 0.497541 0.500474 0.533342 0.536621 0.516735 0.533688 0.523292\n",
      " 0.499353 0.511776 0.465019 0.078027]\n"
     ]
    }
   ],
   "source": [
    "print(theta_star)"
   ]
  },
  {
   "cell_type": "markdown",
   "metadata": {},
   "source": [
    "## Monte Carlo approximation of total cost"
   ]
  },
  {
   "cell_type": "code",
   "execution_count": 13,
   "metadata": {
    "collapsed": true
   },
   "outputs": [],
   "source": [
    "def ell_approx(theta):\n",
    "    \n",
    "    total_cost = 0\n",
    "    for k in range(sims_for_MC):\n",
    "        '''\n",
    "        Simulation part\n",
    "        '''\n",
    "        state = np.zeros(horizon+1)\n",
    "        cost = np.zeros(horizon+1)\n",
    "        action = np.zeros(horizon)\n",
    "\n",
    "        state[0] = np.random.normal(start_mean,start_var)\n",
    "        for i in range(0,horizon):\n",
    "            action[i] = max(0,theta[i] - state[i])\n",
    "            cost[i] = c*action[i] + h*max(0,state[i]) + p*max(0,-state[i])\n",
    "            state[i+1] = state[i] + action[i] - demand_mat[k,i]\n",
    "\n",
    "        cost[-1] = h*max(0,state[-1]) + p*max(0,-state[-1])\n",
    "        total_cost += np.sum(cost)\n",
    "    \n",
    "    return total_cost/sims_for_MC"
   ]
  },
  {
   "cell_type": "code",
   "execution_count": 22,
   "metadata": {},
   "outputs": [
    {
     "name": "stdout",
     "output_type": "stream",
     "text": [
      "10.58018773422548\n"
     ]
    }
   ],
   "source": [
    "ell_star = ell_approx(theta_star)\n",
    "print(ell_star)"
   ]
  },
  {
   "cell_type": "code",
   "execution_count": null,
   "metadata": {
    "collapsed": true
   },
   "outputs": [],
   "source": []
  }
 ],
 "metadata": {
  "kernelspec": {
   "display_name": "tf",
   "language": "python",
   "name": "tf"
  },
  "language_info": {
   "codemirror_mode": {
    "name": "ipython",
    "version": 2
   },
   "file_extension": ".py",
   "mimetype": "text/x-python",
   "name": "python",
   "nbconvert_exporter": "python",
   "pygments_lexer": "ipython2",
   "version": "2.7.13"
  }
 },
 "nbformat": 4,
 "nbformat_minor": 2
}
