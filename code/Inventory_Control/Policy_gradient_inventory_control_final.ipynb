{
 "cells": [
  {
   "cell_type": "code",
   "execution_count": 1,
   "metadata": {},
   "outputs": [
    {
     "data": {
      "text/plain": [
       "'\\nSet-up:\\n1) Threshold policy, continuous state space and finite horizon \\n2) Monte Carlo approximation\\n3) Approximate DP for optimal policy\\n4) Adam for SGD\\n'"
      ]
     },
     "execution_count": 1,
     "metadata": {},
     "output_type": "execute_result"
    }
   ],
   "source": [
    "'''\n",
    "Set-up:\n",
    "1) Threshold policy, continuous state space and finite horizon \n",
    "2) Monte Carlo approximation\n",
    "3) Approximate DP for optimal policy\n",
    "4) Adam for SGD\n",
    "'''"
   ]
  },
  {
   "cell_type": "code",
   "execution_count": 2,
   "metadata": {
    "collapsed": true
   },
   "outputs": [],
   "source": [
    "import numpy as np\n",
    "import math\n",
    "np.set_printoptions(formatter={'float': lambda x: \"{0:0.6f}\".format(x)})\n",
    "%matplotlib inline\n",
    "import matplotlib\n",
    "import matplotlib.pyplot as plt"
   ]
  },
  {
   "cell_type": "code",
   "execution_count": 3,
   "metadata": {
    "collapsed": true
   },
   "outputs": [],
   "source": [
    "'''\n",
    "Parameters: norizon length, demand distribution, start state distribution\n",
    "'''\n",
    "np.random.seed(10)\n",
    "horizon = 10\n",
    "demand_min = 0\n",
    "demand_max = 1\n",
    "start_mean = 1\n",
    "start_var = 0.5\n",
    "'''\n",
    "Costs\n",
    "'''\n",
    "c = 0.5\n",
    "p = 0.6\n",
    "h = 0.55\n",
    "'''\n",
    "Monte Carlo approximation and golden search\n",
    "'''\n",
    "sims_for_MC = 500\n",
    "y_min = -1\n",
    "y_max = 1"
   ]
  },
  {
   "cell_type": "code",
   "execution_count": 4,
   "metadata": {
    "collapsed": true
   },
   "outputs": [],
   "source": [
    "'''\n",
    "Common for approximate DP and gradient approximation.\n",
    "'''\n",
    "demand_mat = np.random.uniform(demand_min,demand_max,size=(sims_for_MC,horizon))"
   ]
  },
  {
   "cell_type": "code",
   "execution_count": 5,
   "metadata": {
    "collapsed": true
   },
   "outputs": [],
   "source": [
    "def get_cost(state,action):\n",
    "    return c*action + h*max(0,state) + p*max(0,-state)"
   ]
  },
  {
   "cell_type": "markdown",
   "metadata": {},
   "source": [
    "## Monte Carlo approximation for Qfunction"
   ]
  },
  {
   "cell_type": "code",
   "execution_count": 6,
   "metadata": {
    "collapsed": true
   },
   "outputs": [],
   "source": [
    "'''\n",
    "horizon = length if the decision horizon. Example, horizon = 3 menas decision in 0,1,2\n",
    "curr_time = current_period, so can go from 0 to horizon-1\n",
    "Inefficient code in terms of memory but easy to understand indexing.\n",
    "Efficient code will create vectors of size horizon - curr_time + 1 but requires more complex indexing\n",
    "'''\n",
    "\n",
    "def q_function(sims_for_MC,y_init,theta_star,curr_time,horizon):\n",
    "    \n",
    "    total_cost = 0\n",
    "    for k in range(sims_for_MC):\n",
    "    \n",
    "        '''\n",
    "        The +1's in length is to accomodate the cost in the state after the final decison is taken\n",
    "        '''\n",
    "        variable = np.zeros(horizon+1)\n",
    "        cost = np.zeros(horizon+1)\n",
    "        variable[curr_time] = y_init\n",
    "        cost[curr_time] = c*variable[curr_time] \n",
    "        action = 0\n",
    "\n",
    "        '''\n",
    "        Now computing the continuation costs, J_{h+1} by forward simulation\n",
    "        '''\n",
    "        for i in range(curr_time,horizon-1): \n",
    "            variable[i+1] = variable[i] + action - demand_mat[k,i]\n",
    "            action = max(0,theta_star[i+1]-variable[i+1])\n",
    "            cost[i+1] = get_cost(variable[i+1],action) \n",
    "\n",
    "        variable[-1] = variable[horizon-1] + action - demand_mat[k,-1]\n",
    "        cost[-1] = get_cost(variable[-1],0)\n",
    "        total_cost += np.sum(cost)\n",
    "    \n",
    "    return total_cost/sims_for_MC"
   ]
  },
  {
   "cell_type": "markdown",
   "metadata": {},
   "source": [
    "## Golden Search"
   ]
  },
  {
   "cell_type": "code",
   "execution_count": 7,
   "metadata": {
    "collapsed": true
   },
   "outputs": [],
   "source": [
    "'''\n",
    "Wikipedia Implementation\n",
    "'''\n",
    "gr = (math.sqrt(5) + 1) / 2\n",
    "def gss(a, b, curr_time, tol=1e-2):\n",
    "    '''\n",
    "    golden section search to find the minimum of f on [a,b]\n",
    "    f: a strictly unimodal function on [a,b]\n",
    "    '''\n",
    "    c = b - (b - a) / gr\n",
    "    d = a + (b - a) / gr\n",
    "    \n",
    "    while abs(c - d) > tol:\n",
    "        f_c = q_function(sims_for_MC,c,theta_star,curr_time,horizon)\n",
    "        f_d = q_function(sims_for_MC,d,theta_star,curr_time,horizon)\n",
    "        if f_c < f_d:\n",
    "            b = d\n",
    "        else:\n",
    "            a = c\n",
    "\n",
    "        # we recompute both c and d here to avoid loss of precision which may lead to incorrect results or infinite loop\n",
    "        c = b - (b - a) / gr\n",
    "        d = a + (b - a) / gr\n",
    "        \n",
    "    return (b + a) / 2"
   ]
  },
  {
   "cell_type": "markdown",
   "metadata": {},
   "source": [
    "## Approximate DP"
   ]
  },
  {
   "cell_type": "code",
   "execution_count": 8,
   "metadata": {},
   "outputs": [],
   "source": [
    "theta_star = np.zeros(horizon)\n",
    "for i in range(horizon-1,-1,-1):\n",
    "    theta_star[i] = gss(y_min,y_max,i,tol=0.001)"
   ]
  },
  {
   "cell_type": "code",
   "execution_count": 9,
   "metadata": {},
   "outputs": [
    {
     "name": "stdout",
     "output_type": "stream",
     "text": [
      "[0.487211 0.515895 0.513522 0.527411 0.539833 0.523572 0.477161 0.463272\n",
      " 0.453222 0.070070]\n"
     ]
    }
   ],
   "source": [
    "print(theta_star)"
   ]
  },
  {
   "cell_type": "markdown",
   "metadata": {},
   "source": [
    "## Approximate Optimal Cost"
   ]
  },
  {
   "cell_type": "code",
   "execution_count": 10,
   "metadata": {
    "collapsed": true
   },
   "outputs": [],
   "source": [
    "def ell_approx(theta):\n",
    "    \n",
    "    total_cost = 0\n",
    "    for k in range(sims_for_MC):\n",
    "        '''\n",
    "        Simulation part\n",
    "        '''\n",
    "        state = np.zeros(horizon+1)\n",
    "        cost = np.zeros(horizon+1)\n",
    "        action = np.zeros(horizon)\n",
    "\n",
    "        state[0] = np.random.normal(start_mean,start_var)\n",
    "        for i in range(0,horizon):\n",
    "            action[i] = max(0,theta[i] - state[i])\n",
    "            cost[i] = c*action[i] + h*max(0,state[i]) + p*max(0,-state[i])\n",
    "            state[i+1] = state[i] + action[i] - demand_mat[k,i]\n",
    "\n",
    "        cost[-1] = h*max(0,state[-1]) + p*max(0,-state[-1])\n",
    "        total_cost += np.sum(cost)\n",
    "    \n",
    "    return total_cost/sims_for_MC"
   ]
  },
  {
   "cell_type": "code",
   "execution_count": 11,
   "metadata": {},
   "outputs": [
    {
     "name": "stdout",
     "output_type": "stream",
     "text": [
      "4.162664462652291\n"
     ]
    }
   ],
   "source": [
    "ell_star = ell_approx(theta_star)\n",
    "print(ell_star)"
   ]
  },
  {
   "cell_type": "markdown",
   "metadata": {},
   "source": [
    "## Policy Gradient approximation"
   ]
  },
  {
   "cell_type": "code",
   "execution_count": 12,
   "metadata": {
    "collapsed": true
   },
   "outputs": [],
   "source": [
    "def policy_grad_simulate(theta,horizon):\n",
    "    '''\n",
    "    Simulation part\n",
    "    '''\n",
    "    state = np.zeros(horizon+1)\n",
    "    cost = np.zeros(horizon+1)\n",
    "    action = np.zeros(horizon)\n",
    "    demand = np.random.uniform(demand_min,demand_max,size=(horizon))\n",
    "    du_dtheta = np.zeros(horizon+1)\n",
    "    tau = np.zeros(horizon)\n",
    "    \n",
    "    state[0] = np.random.normal(start_mean,start_var)\n",
    "    for i in range(0,horizon):\n",
    "        action[i] = max(0,theta[i] - state[i])\n",
    "        cost[i] = c*action[i] + h*max(0,state[i]) + p*max(0,-state[i])\n",
    "        state[i+1] = state[i] + action[i] - demand[i]\n",
    "    \n",
    "    cost[-1] = h*max(0,state[-1]) + p*max(0,-state[-1])\n",
    "    \n",
    "    '''\n",
    "    Gradient computation\n",
    "    '''\n",
    "        \n",
    "    du_dtheta = np.sign(action)\n",
    "    dr = h*(state>0) - p*(state<0)\n",
    "    \n",
    "    grad = np.zeros(horizon)\n",
    "    idx = (np.argwhere(du_dtheta > 0)).flatten()\n",
    "    for i in range(len(idx)-1):\n",
    "        grad[idx[i]] = np.sum(dr[idx[i]+1:idx[i+1]+1])\n",
    "    \n",
    "    if len(idx) > 0:\n",
    "        grad[idx[-1]] = c + np.sum(dr[idx[-1]+1:])\n",
    "    return np.sum(cost), grad"
   ]
  },
  {
   "cell_type": "markdown",
   "metadata": {},
   "source": [
    "## Policy gradient in action"
   ]
  },
  {
   "cell_type": "code",
   "execution_count": 20,
   "metadata": {},
   "outputs": [
    {
     "name": "stdout",
     "output_type": "stream",
     "text": [
      "('Average cost', 4.826020361148068)\n",
      "('Optimality gap', 0.6492865759702529)\n",
      "('Average cost', 4.391751297168221)\n",
      "('Optimality gap', 0.24486156426421868)\n",
      "('Average cost', 4.291978200734428)\n",
      "('Optimality gap', 0.09934980314205255)\n",
      "('Average cost', 4.272371536840732)\n",
      "('Optimality gap', 0.021139860483513573)\n",
      "('Average cost', 4.234934269294571)\n",
      "('Optimality gap', 0.00954810003761608)\n",
      "('Average cost', 4.262653590339402)\n",
      "('Optimality gap', 0.049607997816567106)\n",
      "('Average cost', 4.203881072785922)\n",
      "('Optimality gap', 0.029198914977573764)\n",
      "('Average cost', 4.286126445966004)\n",
      "('Optimality gap', 0.043990661950267906)\n",
      "('Average cost', 4.208563555798736)\n",
      "('Optimality gap', 0.04202365749237913)\n",
      "('Average cost', 4.190948313230374)\n",
      "('Optimality gap', 0.03711536664739157)\n",
      "('Average cost', 4.20598645280209)\n",
      "('Optimality gap', 0.03746126001000061)\n",
      "('Average cost', 4.221770007005094)\n",
      "('Optimality gap', 0.0022199723493834256)\n",
      "('Average cost', 4.20094895148017)\n",
      "('Optimality gap', 0.09154394585122905)\n"
     ]
    },
    {
     "ename": "KeyboardInterrupt",
     "evalue": "",
     "output_type": "error",
     "traceback": [
      "\u001b[0;31m---------------------------------------------------------------------------\u001b[0m",
      "\u001b[0;31mKeyboardInterrupt\u001b[0m                         Traceback (most recent call last)",
      "\u001b[0;32m<ipython-input-20-5632f1b90845>\u001b[0m in \u001b[0;36m<module>\u001b[0;34m()\u001b[0m\n\u001b[1;32m     13\u001b[0m     \u001b[0mgradient\u001b[0m \u001b[0;34m=\u001b[0m \u001b[0mnp\u001b[0m\u001b[0;34m.\u001b[0m\u001b[0mzeros\u001b[0m\u001b[0;34m(\u001b[0m\u001b[0mhorizon\u001b[0m\u001b[0;34m)\u001b[0m\u001b[0;34m\u001b[0m\u001b[0m\n\u001b[1;32m     14\u001b[0m     \u001b[0;32mfor\u001b[0m \u001b[0m_\u001b[0m \u001b[0;32min\u001b[0m \u001b[0mrange\u001b[0m\u001b[0;34m(\u001b[0m\u001b[0msims_for_MC\u001b[0m\u001b[0;34m)\u001b[0m\u001b[0;34m:\u001b[0m\u001b[0;34m\u001b[0m\u001b[0m\n\u001b[0;32m---> 15\u001b[0;31m         \u001b[0mcost\u001b[0m\u001b[0;34m,\u001b[0m \u001b[0mgrad\u001b[0m \u001b[0;34m=\u001b[0m \u001b[0mpolicy_grad_simulate\u001b[0m\u001b[0;34m(\u001b[0m\u001b[0mtheta\u001b[0m\u001b[0;34m,\u001b[0m\u001b[0mhorizon\u001b[0m\u001b[0;34m)\u001b[0m\u001b[0;34m\u001b[0m\u001b[0m\n\u001b[0m\u001b[1;32m     16\u001b[0m         \u001b[0mgradient\u001b[0m \u001b[0;34m+=\u001b[0m \u001b[0mgrad\u001b[0m\u001b[0;34m\u001b[0m\u001b[0m\n\u001b[1;32m     17\u001b[0m         \u001b[0mell\u001b[0m \u001b[0;34m+=\u001b[0m \u001b[0mcost\u001b[0m\u001b[0;34m\u001b[0m\u001b[0m\n",
      "\u001b[0;32m<ipython-input-12-d33d121c05b9>\u001b[0m in \u001b[0;36mpolicy_grad_simulate\u001b[0;34m(theta, horizon)\u001b[0m\n\u001b[1;32m     31\u001b[0m \u001b[0;34m\u001b[0m\u001b[0m\n\u001b[1;32m     32\u001b[0m     \u001b[0;32mif\u001b[0m \u001b[0mlen\u001b[0m\u001b[0;34m(\u001b[0m\u001b[0midx\u001b[0m\u001b[0;34m)\u001b[0m \u001b[0;34m>\u001b[0m \u001b[0;36m0\u001b[0m\u001b[0;34m:\u001b[0m\u001b[0;34m\u001b[0m\u001b[0m\n\u001b[0;32m---> 33\u001b[0;31m         \u001b[0mgrad\u001b[0m\u001b[0;34m[\u001b[0m\u001b[0midx\u001b[0m\u001b[0;34m[\u001b[0m\u001b[0;34m-\u001b[0m\u001b[0;36m1\u001b[0m\u001b[0;34m]\u001b[0m\u001b[0;34m]\u001b[0m \u001b[0;34m=\u001b[0m \u001b[0mc\u001b[0m \u001b[0;34m+\u001b[0m \u001b[0mnp\u001b[0m\u001b[0;34m.\u001b[0m\u001b[0msum\u001b[0m\u001b[0;34m(\u001b[0m\u001b[0mdr\u001b[0m\u001b[0;34m[\u001b[0m\u001b[0midx\u001b[0m\u001b[0;34m[\u001b[0m\u001b[0;34m-\u001b[0m\u001b[0;36m1\u001b[0m\u001b[0;34m]\u001b[0m\u001b[0;34m+\u001b[0m\u001b[0;36m1\u001b[0m\u001b[0;34m:\u001b[0m\u001b[0;34m]\u001b[0m\u001b[0;34m)\u001b[0m\u001b[0;34m\u001b[0m\u001b[0m\n\u001b[0m\u001b[1;32m     34\u001b[0m     \u001b[0;32mreturn\u001b[0m \u001b[0mnp\u001b[0m\u001b[0;34m.\u001b[0m\u001b[0msum\u001b[0m\u001b[0;34m(\u001b[0m\u001b[0mcost\u001b[0m\u001b[0;34m)\u001b[0m\u001b[0;34m,\u001b[0m \u001b[0mgrad\u001b[0m\u001b[0;34m\u001b[0m\u001b[0m\n",
      "\u001b[0;32m/Users/Jalaj/Documents/ML_projects/tf/lib/python2.7/site-packages/numpy/core/fromnumeric.pyc\u001b[0m in \u001b[0;36msum\u001b[0;34m(a, axis, dtype, out, keepdims)\u001b[0m\n\u001b[1;32m   1866\u001b[0m     \u001b[0;32mif\u001b[0m \u001b[0mkeepdims\u001b[0m \u001b[0;32mis\u001b[0m \u001b[0;32mnot\u001b[0m \u001b[0mnp\u001b[0m\u001b[0;34m.\u001b[0m\u001b[0m_NoValue\u001b[0m\u001b[0;34m:\u001b[0m\u001b[0;34m\u001b[0m\u001b[0m\n\u001b[1;32m   1867\u001b[0m         \u001b[0mkwargs\u001b[0m\u001b[0;34m[\u001b[0m\u001b[0;34m'keepdims'\u001b[0m\u001b[0;34m]\u001b[0m \u001b[0;34m=\u001b[0m \u001b[0mkeepdims\u001b[0m\u001b[0;34m\u001b[0m\u001b[0m\n\u001b[0;32m-> 1868\u001b[0;31m     \u001b[0;32mif\u001b[0m \u001b[0misinstance\u001b[0m\u001b[0;34m(\u001b[0m\u001b[0ma\u001b[0m\u001b[0;34m,\u001b[0m \u001b[0m_gentype\u001b[0m\u001b[0;34m)\u001b[0m\u001b[0;34m:\u001b[0m\u001b[0;34m\u001b[0m\u001b[0m\n\u001b[0m\u001b[1;32m   1869\u001b[0m         \u001b[0mres\u001b[0m \u001b[0;34m=\u001b[0m \u001b[0m_sum_\u001b[0m\u001b[0;34m(\u001b[0m\u001b[0ma\u001b[0m\u001b[0;34m)\u001b[0m\u001b[0;34m\u001b[0m\u001b[0m\n\u001b[1;32m   1870\u001b[0m         \u001b[0;32mif\u001b[0m \u001b[0mout\u001b[0m \u001b[0;32mis\u001b[0m \u001b[0;32mnot\u001b[0m \u001b[0mNone\u001b[0m\u001b[0;34m:\u001b[0m\u001b[0;34m\u001b[0m\u001b[0m\n",
      "\u001b[0;31mKeyboardInterrupt\u001b[0m: "
     ]
    }
   ],
   "source": [
    "'''\n",
    "Gradient decent\n",
    "'''\n",
    "N = 5000\n",
    "num_sims = 500\n",
    "stepsize = 0.005\n",
    "theta = np.random.uniform(0,1,size=(horizon))\n",
    "gap = []\n",
    "\n",
    "for k in range(N):\n",
    "    \n",
    "    ell = 0\n",
    "    gradient = np.zeros(horizon)\n",
    "    for _ in range(sims_for_MC):\n",
    "        cost, grad = policy_grad_simulate(theta,horizon)\n",
    "        gradient += grad\n",
    "        ell += cost\n",
    "        \n",
    "#     print(gradient)\n",
    "    theta -= stepsize*gradient/sims_for_MC\n",
    "    \n",
    "    if k % 100 == 0:\n",
    "        print('Average cost', ell/sims_for_MC)\n",
    "        optimality_gap = np.abs(ell_approx(theta) - ell_star)\n",
    "        print('Optimality gap',optimality_gap)\n",
    "        gap.append(optimality_gap)"
   ]
  },
  {
   "cell_type": "code",
   "execution_count": 18,
   "metadata": {
    "collapsed": true
   },
   "outputs": [],
   "source": [
    "np.save('Inv_control.npy',gap)"
   ]
  },
  {
   "cell_type": "code",
   "execution_count": 15,
   "metadata": {},
   "outputs": [],
   "source": [
    "# import numpy as np\n",
    "# gap = np.load('Inv_control.npy')"
   ]
  },
  {
   "cell_type": "code",
   "execution_count": 19,
   "metadata": {},
   "outputs": [
    {
     "data": {
      "text/plain": [
       "<matplotlib.text.Text at 0x105bb0910>"
      ]
     },
     "execution_count": 19,
     "metadata": {},
     "output_type": "execute_result"
    },
    {
     "data": {
      "image/png": "[encoded data removed]",
      "text/plain": [
       "<matplotlib.figure.Figure at 0x105c1d250>"
      ]
     },
     "metadata": {},
     "output_type": "display_data"
    }
   ],
   "source": [
    "f = plt.figure\n",
    "plt.plot(np.array(gap))\n",
    "plt.title('Optimality gap during training')\n",
    "plt.ylabel('Gap')\n",
    "plt.xlabel('Iteration number/100')"
   ]
  },
  {
   "cell_type": "code",
   "execution_count": null,
   "metadata": {
    "collapsed": true
   },
   "outputs": [],
   "source": []
  }
 ],
 "metadata": {
  "kernelspec": {
   "display_name": "tf",
   "language": "python",
   "name": "tf"
  },
  "language_info": {
   "codemirror_mode": {
    "name": "ipython",
    "version": 2
   },
   "file_extension": ".py",
   "mimetype": "text/x-python",
   "name": "python",
   "nbconvert_exporter": "python",
   "pygments_lexer": "ipython2",
   "version": "2.7.13"
  }
 },
 "nbformat": 4,
 "nbformat_minor": 2
}
